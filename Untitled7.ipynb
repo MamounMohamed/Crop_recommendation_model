{
 "cells": [
  {
   "cell_type": "code",
   "execution_count": 1,
   "metadata": {},
   "outputs": [],
   "source": [
    "import numpy as np \n",
    "import pandas as pd \n",
    "import matplotlib.pyplot as plt\n",
    "from sklearn.model_selection import train_test_split , cross_validate\n",
    "from tensorflow.keras.models import Sequential\n",
    "from tensorflow.keras.layers import Dense , Dropout , Activation , Flatten\n",
    "from tensorflow.keras.utils import to_categorical\n",
    "from sklearn.preprocessing import StandardScaler"
   ]
  },
  {
   "cell_type": "code",
   "execution_count": 2,
   "metadata": {},
   "outputs": [
    {
     "data": {
      "text/html": [
       "<div>\n",
       "<style scoped>\n",
       "    .dataframe tbody tr th:only-of-type {\n",
       "        vertical-align: middle;\n",
       "    }\n",
       "\n",
       "    .dataframe tbody tr th {\n",
       "        vertical-align: top;\n",
       "    }\n",
       "\n",
       "    .dataframe thead th {\n",
       "        text-align: right;\n",
       "    }\n",
       "</style>\n",
       "<table border=\"1\" class=\"dataframe\">\n",
       "  <thead>\n",
       "    <tr style=\"text-align: right;\">\n",
       "      <th></th>\n",
       "      <th>N</th>\n",
       "      <th>P</th>\n",
       "      <th>K</th>\n",
       "      <th>temperature</th>\n",
       "      <th>humidity</th>\n",
       "      <th>ph</th>\n",
       "      <th>rainfall</th>\n",
       "      <th>label</th>\n",
       "    </tr>\n",
       "  </thead>\n",
       "  <tbody>\n",
       "    <tr>\n",
       "      <th>0</th>\n",
       "      <td>90</td>\n",
       "      <td>42</td>\n",
       "      <td>43</td>\n",
       "      <td>20.879744</td>\n",
       "      <td>82.002744</td>\n",
       "      <td>6.502985</td>\n",
       "      <td>202.935536</td>\n",
       "      <td>rice</td>\n",
       "    </tr>\n",
       "    <tr>\n",
       "      <th>1</th>\n",
       "      <td>85</td>\n",
       "      <td>58</td>\n",
       "      <td>41</td>\n",
       "      <td>21.770462</td>\n",
       "      <td>80.319644</td>\n",
       "      <td>7.038096</td>\n",
       "      <td>226.655537</td>\n",
       "      <td>rice</td>\n",
       "    </tr>\n",
       "    <tr>\n",
       "      <th>2</th>\n",
       "      <td>60</td>\n",
       "      <td>55</td>\n",
       "      <td>44</td>\n",
       "      <td>23.004459</td>\n",
       "      <td>82.320763</td>\n",
       "      <td>7.840207</td>\n",
       "      <td>263.964248</td>\n",
       "      <td>rice</td>\n",
       "    </tr>\n",
       "    <tr>\n",
       "      <th>3</th>\n",
       "      <td>74</td>\n",
       "      <td>35</td>\n",
       "      <td>40</td>\n",
       "      <td>26.491096</td>\n",
       "      <td>80.158363</td>\n",
       "      <td>6.980401</td>\n",
       "      <td>242.864034</td>\n",
       "      <td>rice</td>\n",
       "    </tr>\n",
       "    <tr>\n",
       "      <th>4</th>\n",
       "      <td>78</td>\n",
       "      <td>42</td>\n",
       "      <td>42</td>\n",
       "      <td>20.130175</td>\n",
       "      <td>81.604873</td>\n",
       "      <td>7.628473</td>\n",
       "      <td>262.717340</td>\n",
       "      <td>rice</td>\n",
       "    </tr>\n",
       "  </tbody>\n",
       "</table>\n",
       "</div>"
      ],
      "text/plain": [
       "    N   P   K  temperature   humidity        ph    rainfall label\n",
       "0  90  42  43    20.879744  82.002744  6.502985  202.935536  rice\n",
       "1  85  58  41    21.770462  80.319644  7.038096  226.655537  rice\n",
       "2  60  55  44    23.004459  82.320763  7.840207  263.964248  rice\n",
       "3  74  35  40    26.491096  80.158363  6.980401  242.864034  rice\n",
       "4  78  42  42    20.130175  81.604873  7.628473  262.717340  rice"
      ]
     },
     "execution_count": 2,
     "metadata": {},
     "output_type": "execute_result"
    }
   ],
   "source": [
    "df=pd.read_csv('Crop_recommendation.csv')\n",
    "df.head()"
   ]
  },
  {
   "cell_type": "code",
   "execution_count": 3,
   "metadata": {},
   "outputs": [
    {
     "data": {
      "text/html": [
       "<div>\n",
       "<style scoped>\n",
       "    .dataframe tbody tr th:only-of-type {\n",
       "        vertical-align: middle;\n",
       "    }\n",
       "\n",
       "    .dataframe tbody tr th {\n",
       "        vertical-align: top;\n",
       "    }\n",
       "\n",
       "    .dataframe thead th {\n",
       "        text-align: right;\n",
       "    }\n",
       "</style>\n",
       "<table border=\"1\" class=\"dataframe\">\n",
       "  <thead>\n",
       "    <tr style=\"text-align: right;\">\n",
       "      <th></th>\n",
       "      <th>N</th>\n",
       "      <th>P</th>\n",
       "      <th>K</th>\n",
       "      <th>temperature</th>\n",
       "      <th>humidity</th>\n",
       "      <th>ph</th>\n",
       "      <th>rainfall</th>\n",
       "    </tr>\n",
       "  </thead>\n",
       "  <tbody>\n",
       "    <tr>\n",
       "      <th>count</th>\n",
       "      <td>2200.000000</td>\n",
       "      <td>2200.000000</td>\n",
       "      <td>2200.000000</td>\n",
       "      <td>2200.000000</td>\n",
       "      <td>2200.000000</td>\n",
       "      <td>2200.000000</td>\n",
       "      <td>2200.000000</td>\n",
       "    </tr>\n",
       "    <tr>\n",
       "      <th>mean</th>\n",
       "      <td>50.551818</td>\n",
       "      <td>53.362727</td>\n",
       "      <td>48.149091</td>\n",
       "      <td>25.616244</td>\n",
       "      <td>71.481779</td>\n",
       "      <td>6.469480</td>\n",
       "      <td>103.463655</td>\n",
       "    </tr>\n",
       "    <tr>\n",
       "      <th>std</th>\n",
       "      <td>36.917334</td>\n",
       "      <td>32.985883</td>\n",
       "      <td>50.647931</td>\n",
       "      <td>5.063749</td>\n",
       "      <td>22.263812</td>\n",
       "      <td>0.773938</td>\n",
       "      <td>54.958389</td>\n",
       "    </tr>\n",
       "    <tr>\n",
       "      <th>min</th>\n",
       "      <td>0.000000</td>\n",
       "      <td>5.000000</td>\n",
       "      <td>5.000000</td>\n",
       "      <td>8.825675</td>\n",
       "      <td>14.258040</td>\n",
       "      <td>3.504752</td>\n",
       "      <td>20.211267</td>\n",
       "    </tr>\n",
       "    <tr>\n",
       "      <th>25%</th>\n",
       "      <td>21.000000</td>\n",
       "      <td>28.000000</td>\n",
       "      <td>20.000000</td>\n",
       "      <td>22.769375</td>\n",
       "      <td>60.261953</td>\n",
       "      <td>5.971693</td>\n",
       "      <td>64.551686</td>\n",
       "    </tr>\n",
       "    <tr>\n",
       "      <th>50%</th>\n",
       "      <td>37.000000</td>\n",
       "      <td>51.000000</td>\n",
       "      <td>32.000000</td>\n",
       "      <td>25.598693</td>\n",
       "      <td>80.473146</td>\n",
       "      <td>6.425045</td>\n",
       "      <td>94.867624</td>\n",
       "    </tr>\n",
       "    <tr>\n",
       "      <th>75%</th>\n",
       "      <td>84.250000</td>\n",
       "      <td>68.000000</td>\n",
       "      <td>49.000000</td>\n",
       "      <td>28.561654</td>\n",
       "      <td>89.948771</td>\n",
       "      <td>6.923643</td>\n",
       "      <td>124.267508</td>\n",
       "    </tr>\n",
       "    <tr>\n",
       "      <th>max</th>\n",
       "      <td>140.000000</td>\n",
       "      <td>145.000000</td>\n",
       "      <td>205.000000</td>\n",
       "      <td>43.675493</td>\n",
       "      <td>99.981876</td>\n",
       "      <td>9.935091</td>\n",
       "      <td>298.560117</td>\n",
       "    </tr>\n",
       "  </tbody>\n",
       "</table>\n",
       "</div>"
      ],
      "text/plain": [
       "                 N            P            K  temperature     humidity  \\\n",
       "count  2200.000000  2200.000000  2200.000000  2200.000000  2200.000000   \n",
       "mean     50.551818    53.362727    48.149091    25.616244    71.481779   \n",
       "std      36.917334    32.985883    50.647931     5.063749    22.263812   \n",
       "min       0.000000     5.000000     5.000000     8.825675    14.258040   \n",
       "25%      21.000000    28.000000    20.000000    22.769375    60.261953   \n",
       "50%      37.000000    51.000000    32.000000    25.598693    80.473146   \n",
       "75%      84.250000    68.000000    49.000000    28.561654    89.948771   \n",
       "max     140.000000   145.000000   205.000000    43.675493    99.981876   \n",
       "\n",
       "                ph     rainfall  \n",
       "count  2200.000000  2200.000000  \n",
       "mean      6.469480   103.463655  \n",
       "std       0.773938    54.958389  \n",
       "min       3.504752    20.211267  \n",
       "25%       5.971693    64.551686  \n",
       "50%       6.425045    94.867624  \n",
       "75%       6.923643   124.267508  \n",
       "max       9.935091   298.560117  "
      ]
     },
     "execution_count": 3,
     "metadata": {},
     "output_type": "execute_result"
    }
   ],
   "source": [
    "df.describe()"
   ]
  },
  {
   "cell_type": "code",
   "execution_count": 4,
   "metadata": {},
   "outputs": [
    {
     "data": {
      "text/plain": [
       "(2200, 8)"
      ]
     },
     "execution_count": 4,
     "metadata": {},
     "output_type": "execute_result"
    }
   ],
   "source": [
    "df.shape"
   ]
  },
  {
   "cell_type": "code",
   "execution_count": 5,
   "metadata": {},
   "outputs": [
    {
     "data": {
      "text/html": [
       "<div>\n",
       "<style scoped>\n",
       "    .dataframe tbody tr th:only-of-type {\n",
       "        vertical-align: middle;\n",
       "    }\n",
       "\n",
       "    .dataframe tbody tr th {\n",
       "        vertical-align: top;\n",
       "    }\n",
       "\n",
       "    .dataframe thead th {\n",
       "        text-align: right;\n",
       "    }\n",
       "</style>\n",
       "<table border=\"1\" class=\"dataframe\">\n",
       "  <thead>\n",
       "    <tr style=\"text-align: right;\">\n",
       "      <th></th>\n",
       "      <th>N</th>\n",
       "      <th>P</th>\n",
       "      <th>K</th>\n",
       "      <th>temperature</th>\n",
       "      <th>humidity</th>\n",
       "      <th>ph</th>\n",
       "      <th>rainfall</th>\n",
       "    </tr>\n",
       "  </thead>\n",
       "  <tbody>\n",
       "    <tr>\n",
       "      <th>0</th>\n",
       "      <td>90</td>\n",
       "      <td>42</td>\n",
       "      <td>43</td>\n",
       "      <td>20.8797</td>\n",
       "      <td>82.0027</td>\n",
       "      <td>6.50299</td>\n",
       "      <td>202.936</td>\n",
       "    </tr>\n",
       "    <tr>\n",
       "      <th>1</th>\n",
       "      <td>85</td>\n",
       "      <td>58</td>\n",
       "      <td>41</td>\n",
       "      <td>21.7705</td>\n",
       "      <td>80.3196</td>\n",
       "      <td>7.0381</td>\n",
       "      <td>226.656</td>\n",
       "    </tr>\n",
       "    <tr>\n",
       "      <th>2</th>\n",
       "      <td>60</td>\n",
       "      <td>55</td>\n",
       "      <td>44</td>\n",
       "      <td>23.0045</td>\n",
       "      <td>82.3208</td>\n",
       "      <td>7.84021</td>\n",
       "      <td>263.964</td>\n",
       "    </tr>\n",
       "    <tr>\n",
       "      <th>3</th>\n",
       "      <td>74</td>\n",
       "      <td>35</td>\n",
       "      <td>40</td>\n",
       "      <td>26.4911</td>\n",
       "      <td>80.1584</td>\n",
       "      <td>6.9804</td>\n",
       "      <td>242.864</td>\n",
       "    </tr>\n",
       "    <tr>\n",
       "      <th>4</th>\n",
       "      <td>78</td>\n",
       "      <td>42</td>\n",
       "      <td>42</td>\n",
       "      <td>20.1302</td>\n",
       "      <td>81.6049</td>\n",
       "      <td>7.62847</td>\n",
       "      <td>262.717</td>\n",
       "    </tr>\n",
       "    <tr>\n",
       "      <th>...</th>\n",
       "      <td>...</td>\n",
       "      <td>...</td>\n",
       "      <td>...</td>\n",
       "      <td>...</td>\n",
       "      <td>...</td>\n",
       "      <td>...</td>\n",
       "      <td>...</td>\n",
       "    </tr>\n",
       "    <tr>\n",
       "      <th>2195</th>\n",
       "      <td>107</td>\n",
       "      <td>34</td>\n",
       "      <td>32</td>\n",
       "      <td>26.7746</td>\n",
       "      <td>66.4133</td>\n",
       "      <td>6.78006</td>\n",
       "      <td>177.775</td>\n",
       "    </tr>\n",
       "    <tr>\n",
       "      <th>2196</th>\n",
       "      <td>99</td>\n",
       "      <td>15</td>\n",
       "      <td>27</td>\n",
       "      <td>27.4171</td>\n",
       "      <td>56.6364</td>\n",
       "      <td>6.08692</td>\n",
       "      <td>127.925</td>\n",
       "    </tr>\n",
       "    <tr>\n",
       "      <th>2197</th>\n",
       "      <td>118</td>\n",
       "      <td>33</td>\n",
       "      <td>30</td>\n",
       "      <td>24.1318</td>\n",
       "      <td>67.2251</td>\n",
       "      <td>6.36261</td>\n",
       "      <td>173.323</td>\n",
       "    </tr>\n",
       "    <tr>\n",
       "      <th>2198</th>\n",
       "      <td>117</td>\n",
       "      <td>32</td>\n",
       "      <td>34</td>\n",
       "      <td>26.2724</td>\n",
       "      <td>52.1274</td>\n",
       "      <td>6.75879</td>\n",
       "      <td>127.175</td>\n",
       "    </tr>\n",
       "    <tr>\n",
       "      <th>2199</th>\n",
       "      <td>104</td>\n",
       "      <td>18</td>\n",
       "      <td>30</td>\n",
       "      <td>23.603</td>\n",
       "      <td>60.3965</td>\n",
       "      <td>6.77983</td>\n",
       "      <td>140.937</td>\n",
       "    </tr>\n",
       "  </tbody>\n",
       "</table>\n",
       "<p>2200 rows × 7 columns</p>\n",
       "</div>"
      ],
      "text/plain": [
       "        N   P   K temperature humidity       ph rainfall\n",
       "0      90  42  43     20.8797  82.0027  6.50299  202.936\n",
       "1      85  58  41     21.7705  80.3196   7.0381  226.656\n",
       "2      60  55  44     23.0045  82.3208  7.84021  263.964\n",
       "3      74  35  40     26.4911  80.1584   6.9804  242.864\n",
       "4      78  42  42     20.1302  81.6049  7.62847  262.717\n",
       "...   ...  ..  ..         ...      ...      ...      ...\n",
       "2195  107  34  32     26.7746  66.4133  6.78006  177.775\n",
       "2196   99  15  27     27.4171  56.6364  6.08692  127.925\n",
       "2197  118  33  30     24.1318  67.2251  6.36261  173.323\n",
       "2198  117  32  34     26.2724  52.1274  6.75879  127.175\n",
       "2199  104  18  30      23.603  60.3965  6.77983  140.937\n",
       "\n",
       "[2200 rows x 7 columns]"
      ]
     },
     "execution_count": 5,
     "metadata": {},
     "output_type": "execute_result"
    }
   ],
   "source": [
    "features = df.T[:7].T\n",
    "features"
   ]
  },
  {
   "cell_type": "code",
   "execution_count": 6,
   "metadata": {},
   "outputs": [
    {
     "data": {
      "text/plain": [
       "array([[ 1.0687974 , -0.34455075, -0.1016875 , ...,  0.47266646,\n",
       "         0.04330173,  1.8103605 ],\n",
       "       [ 0.93332887,  0.14061552, -0.14118477, ...,  0.39705125,\n",
       "         0.73487256,  2.24205791],\n",
       "       [ 0.25598625,  0.04964684, -0.08193887, ...,  0.48695381,\n",
       "         1.77151047,  2.92106603],\n",
       "       ...,\n",
       "       [ 1.82742114, -0.61745677, -0.35841972, ..., -0.19123516,\n",
       "        -0.13812031,  1.27141766],\n",
       "       [ 1.80032743, -0.64777967, -0.27942519, ..., -0.86951801,\n",
       "         0.37390383,  0.43154519],\n",
       "       [ 1.44810927, -1.07230015, -0.35841972, ..., -0.49802006,\n",
       "         0.40109573,  0.68200518]])"
      ]
     },
     "execution_count": 6,
     "metadata": {},
     "output_type": "execute_result"
    }
   ],
   "source": [
    "scaler = StandardScaler()\n",
    "features = scaler.fit_transform(features)\n",
    "features"
   ]
  },
  {
   "cell_type": "code",
   "execution_count": 7,
   "metadata": {},
   "outputs": [],
   "source": [
    "data_classes = list(df['label'].unique())"
   ]
  },
  {
   "cell_type": "code",
   "execution_count": 8,
   "metadata": {},
   "outputs": [
    {
     "data": {
      "text/plain": [
       "['rice',\n",
       " 'maize',\n",
       " 'chickpea',\n",
       " 'kidneybeans',\n",
       " 'pigeonpeas',\n",
       " 'mothbeans',\n",
       " 'mungbean',\n",
       " 'blackgram',\n",
       " 'lentil',\n",
       " 'pomegranate',\n",
       " 'banana',\n",
       " 'mango',\n",
       " 'grapes',\n",
       " 'watermelon',\n",
       " 'muskmelon',\n",
       " 'apple',\n",
       " 'orange',\n",
       " 'papaya',\n",
       " 'coconut',\n",
       " 'cotton',\n",
       " 'jute',\n",
       " 'coffee']"
      ]
     },
     "execution_count": 8,
     "metadata": {},
     "output_type": "execute_result"
    }
   ],
   "source": [
    "data_classes"
   ]
  },
  {
   "cell_type": "code",
   "execution_count": 9,
   "metadata": {},
   "outputs": [
    {
     "data": {
      "text/plain": [
       "0        0\n",
       "1        0\n",
       "2        0\n",
       "3        0\n",
       "4        0\n",
       "        ..\n",
       "2195    21\n",
       "2196    21\n",
       "2197    21\n",
       "2198    21\n",
       "2199    21\n",
       "Name: label, Length: 2200, dtype: int64"
      ]
     },
     "execution_count": 9,
     "metadata": {},
     "output_type": "execute_result"
    }
   ],
   "source": [
    "targets = df['label'].apply(data_classes.index)\n",
    "targets"
   ]
  },
  {
   "cell_type": "code",
   "execution_count": 10,
   "metadata": {},
   "outputs": [
    {
     "data": {
      "text/plain": [
       "array([[1., 0., 0., ..., 0., 0., 0.],\n",
       "       [1., 0., 0., ..., 0., 0., 0.],\n",
       "       [1., 0., 0., ..., 0., 0., 0.],\n",
       "       ...,\n",
       "       [0., 0., 0., ..., 0., 0., 1.],\n",
       "       [0., 0., 0., ..., 0., 0., 1.],\n",
       "       [0., 0., 0., ..., 0., 0., 1.]], dtype=float32)"
      ]
     },
     "execution_count": 10,
     "metadata": {},
     "output_type": "execute_result"
    }
   ],
   "source": [
    "targets = to_categorical(targets)\n",
    "targets"
   ]
  },
  {
   "cell_type": "code",
   "execution_count": 11,
   "metadata": {},
   "outputs": [],
   "source": [
    "x_train , x_test , y_train  , y_test = train_test_split(features,targets,test_size = 0.1 , random_state = 42)"
   ]
  },
  {
   "cell_type": "code",
   "execution_count": 12,
   "metadata": {},
   "outputs": [
    {
     "data": {
      "text/plain": [
       "((1980, 7), (1980, 22))"
      ]
     },
     "execution_count": 12,
     "metadata": {},
     "output_type": "execute_result"
    }
   ],
   "source": [
    "x_train.shape , y_train.shape"
   ]
  },
  {
   "cell_type": "code",
   "execution_count": 13,
   "metadata": {},
   "outputs": [],
   "source": [
    "model = Sequential()\n",
    "model.add(Flatten())\n",
    "model.add(Dense(128,activation='relu'))\n",
    "model.add(Dense(22,activation='softmax'))"
   ]
  },
  {
   "cell_type": "code",
   "execution_count": 14,
   "metadata": {},
   "outputs": [],
   "source": [
    "model.compile(optimizer='adam',loss = 'categorical_crossentropy',metrics = ['accuracy'])"
   ]
  },
  {
   "cell_type": "code",
   "execution_count": 15,
   "metadata": {},
   "outputs": [
    {
     "name": "stdout",
     "output_type": "stream",
     "text": [
      "Epoch 1/50\n",
      "62/62 [==============================] - 1s 1ms/step - loss: 2.6282 - accuracy: 0.2975\n",
      "Epoch 2/50\n",
      "62/62 [==============================] - 0s 806us/step - loss: 1.7210 - accuracy: 0.6561\n",
      "Epoch 3/50\n",
      "62/62 [==============================] - 0s 751us/step - loss: 1.0989 - accuracy: 0.7965\n",
      "Epoch 4/50\n",
      "62/62 [==============================] - 0s 714us/step - loss: 0.7485 - accuracy: 0.8692\n",
      "Epoch 5/50\n",
      "62/62 [==============================] - 0s 749us/step - loss: 0.5558 - accuracy: 0.9066\n",
      "Epoch 6/50\n",
      "62/62 [==============================] - 0s 956us/step - loss: 0.4390 - accuracy: 0.9227\n",
      "Epoch 7/50\n",
      "62/62 [==============================] - 0s 795us/step - loss: 0.3618 - accuracy: 0.9354\n",
      "Epoch 8/50\n",
      "62/62 [==============================] - 0s 715us/step - loss: 0.3072 - accuracy: 0.9414\n",
      "Epoch 9/50\n",
      "62/62 [==============================] - 0s 894us/step - loss: 0.2661 - accuracy: 0.9485\n",
      "Epoch 10/50\n",
      "62/62 [==============================] - 0s 878us/step - loss: 0.2330 - accuracy: 0.9556\n",
      "Epoch 11/50\n",
      "62/62 [==============================] - 0s 815us/step - loss: 0.2078 - accuracy: 0.9571\n",
      "Epoch 12/50\n",
      "62/62 [==============================] - 0s 807us/step - loss: 0.1876 - accuracy: 0.9636\n",
      "Epoch 13/50\n",
      "62/62 [==============================] - 0s 706us/step - loss: 0.1705 - accuracy: 0.9611\n",
      "Epoch 14/50\n",
      "62/62 [==============================] - 0s 792us/step - loss: 0.1559 - accuracy: 0.9667\n",
      "Epoch 15/50\n",
      "62/62 [==============================] - 0s 789us/step - loss: 0.1432 - accuracy: 0.9722\n",
      "Epoch 16/50\n",
      "62/62 [==============================] - 0s 802us/step - loss: 0.1321 - accuracy: 0.9732\n",
      "Epoch 17/50\n",
      "62/62 [==============================] - 0s 754us/step - loss: 0.1234 - accuracy: 0.9753\n",
      "Epoch 18/50\n",
      "62/62 [==============================] - 0s 722us/step - loss: 0.1144 - accuracy: 0.9773\n",
      "Epoch 19/50\n",
      "62/62 [==============================] - 0s 706us/step - loss: 0.1072 - accuracy: 0.9798\n",
      "Epoch 20/50\n",
      "62/62 [==============================] - 0s 750us/step - loss: 0.1006 - accuracy: 0.9813\n",
      "Epoch 21/50\n",
      "62/62 [==============================] - 0s 781us/step - loss: 0.0966 - accuracy: 0.9793\n",
      "Epoch 22/50\n",
      "62/62 [==============================] - 0s 754us/step - loss: 0.0902 - accuracy: 0.9828\n",
      "Epoch 23/50\n",
      "62/62 [==============================] - 0s 783us/step - loss: 0.0851 - accuracy: 0.9838\n",
      "Epoch 24/50\n",
      "62/62 [==============================] - 0s 747us/step - loss: 0.0806 - accuracy: 0.9823\n",
      "Epoch 25/50\n",
      "62/62 [==============================] - 0s 783us/step - loss: 0.0786 - accuracy: 0.9838\n",
      "Epoch 26/50\n",
      "62/62 [==============================] - 0s 839us/step - loss: 0.0739 - accuracy: 0.9869\n",
      "Epoch 27/50\n",
      "62/62 [==============================] - 0s 744us/step - loss: 0.0701 - accuracy: 0.9854\n",
      "Epoch 28/50\n",
      "62/62 [==============================] - 0s 795us/step - loss: 0.0666 - accuracy: 0.9869\n",
      "Epoch 29/50\n",
      "62/62 [==============================] - 0s 803us/step - loss: 0.0643 - accuracy: 0.9848\n",
      "Epoch 30/50\n",
      "62/62 [==============================] - 0s 786us/step - loss: 0.0617 - accuracy: 0.9869\n",
      "Epoch 31/50\n",
      "62/62 [==============================] - 0s 735us/step - loss: 0.0592 - accuracy: 0.9879\n",
      "Epoch 32/50\n",
      "62/62 [==============================] - 0s 710us/step - loss: 0.0565 - accuracy: 0.9874\n",
      "Epoch 33/50\n",
      "62/62 [==============================] - 0s 894us/step - loss: 0.0556 - accuracy: 0.9879\n",
      "Epoch 34/50\n",
      "62/62 [==============================] - 0s 822us/step - loss: 0.0530 - accuracy: 0.9899\n",
      "Epoch 35/50\n",
      "62/62 [==============================] - 0s 799us/step - loss: 0.0511 - accuracy: 0.9884\n",
      "Epoch 36/50\n",
      "62/62 [==============================] - 0s 732us/step - loss: 0.0495 - accuracy: 0.9904\n",
      "Epoch 37/50\n",
      "62/62 [==============================] - 0s 760us/step - loss: 0.0477 - accuracy: 0.9914\n",
      "Epoch 38/50\n",
      "62/62 [==============================] - 0s 805us/step - loss: 0.0463 - accuracy: 0.9899\n",
      "Epoch 39/50\n",
      "62/62 [==============================] - 0s 761us/step - loss: 0.0454 - accuracy: 0.9919\n",
      "Epoch 40/50\n",
      "62/62 [==============================] - 0s 851us/step - loss: 0.0436 - accuracy: 0.9899\n",
      "Epoch 41/50\n",
      "62/62 [==============================] - 0s 859us/step - loss: 0.0429 - accuracy: 0.9899\n",
      "Epoch 42/50\n",
      "62/62 [==============================] - 0s 767us/step - loss: 0.0418 - accuracy: 0.9909\n",
      "Epoch 43/50\n",
      "62/62 [==============================] - 0s 815us/step - loss: 0.0397 - accuracy: 0.9919\n",
      "Epoch 44/50\n",
      "62/62 [==============================] - 0s 797us/step - loss: 0.0386 - accuracy: 0.9924\n",
      "Epoch 45/50\n",
      "62/62 [==============================] - 0s 807us/step - loss: 0.0380 - accuracy: 0.9909\n",
      "Epoch 46/50\n",
      "62/62 [==============================] - 0s 702us/step - loss: 0.0366 - accuracy: 0.9924\n",
      "Epoch 47/50\n",
      "62/62 [==============================] - 0s 754us/step - loss: 0.0357 - accuracy: 0.9924\n",
      "Epoch 48/50\n",
      "62/62 [==============================] - 0s 837us/step - loss: 0.0356 - accuracy: 0.9919\n",
      "Epoch 49/50\n",
      "62/62 [==============================] - 0s 756us/step - loss: 0.0345 - accuracy: 0.9904\n",
      "Epoch 50/50\n",
      "62/62 [==============================] - 0s 735us/step - loss: 0.0345 - accuracy: 0.9909\n"
     ]
    }
   ],
   "source": [
    "history = model.fit(x_train,y_train,epochs=50)"
   ]
  },
  {
   "cell_type": "code",
   "execution_count": 20,
   "metadata": {},
   "outputs": [
    {
     "data": {
      "text/plain": [
       "Text(0, 0.5, 'Loss')"
      ]
     },
     "execution_count": 20,
     "metadata": {},
     "output_type": "execute_result"
    },
    {
     "data": {
      "image/png": "[encoded data removed]",
      "text/plain": [
       "<Figure size 432x288 with 1 Axes>"
      ]
     },
     "metadata": {
      "needs_background": "light"
     },
     "output_type": "display_data"
    }
   ],
   "source": [
    "plt.plot(history.history['loss'])\n",
    "plt.xlabel('Epochs')\n",
    "plt.ylabel('Loss')\n"
   ]
  },
  {
   "cell_type": "code",
   "execution_count": 21,
   "metadata": {},
   "outputs": [
    {
     "data": {
      "text/plain": [
       "Text(0, 0.5, 'Accuaracy')"
      ]
     },
     "execution_count": 21,
     "metadata": {},
     "output_type": "execute_result"
    },
    {
     "data": {
      "image/png": "[encoded data removed]",
      "text/plain": [
       "<Figure size 432x288 with 1 Axes>"
      ]
     },
     "metadata": {
      "needs_background": "light"
     },
     "output_type": "display_data"
    }
   ],
   "source": [
    "plt.plot(history.history['accuracy'])\n",
    "plt.xlabel('Epochs')\n",
    "plt.ylabel('Accuaracy')\n"
   ]
  },
  {
   "cell_type": "code",
   "execution_count": 18,
   "metadata": {},
   "outputs": [
    {
     "name": "stdout",
     "output_type": "stream",
     "text": [
      "7/7 [==============================] - 0s 3ms/step - loss: 0.0565 - accuracy: 0.9864\n"
     ]
    },
    {
     "data": {
      "text/plain": [
       "[0.05654841661453247, 0.9863636493682861]"
      ]
     },
     "execution_count": 18,
     "metadata": {},
     "output_type": "execute_result"
    }
   ],
   "source": [
    "model.evaluate(x_test,y_test)"
   ]
  },
  {
   "cell_type": "code",
   "execution_count": 19,
   "metadata": {},
   "outputs": [
    {
     "name": "stdout",
     "output_type": "stream",
     "text": [
      "The model predicted the answer is muskmelon While the real answer is muskmelon\n",
      "The model predicted the answer is watermelon While the real answer is watermelon\n",
      "The model predicted the answer is papaya While the real answer is papaya\n",
      "The model predicted the answer is papaya While the real answer is papaya\n",
      "The model predicted the answer is apple While the real answer is apple\n",
      "The model predicted the answer is mango While the real answer is mango\n",
      "The model predicted the answer is apple While the real answer is apple\n",
      "The model predicted the answer is mothbeans While the real answer is mothbeans\n",
      "The model predicted the answer is mungbean While the real answer is mungbean\n",
      "The model predicted the answer is lentil While the real answer is lentil\n",
      "The model predicted the answer is blackgram While the real answer is blackgram\n",
      "The model predicted the answer is coconut While the real answer is coconut\n",
      "The model predicted the answer is pomegranate While the real answer is pomegranate\n",
      "The model predicted the answer is jute While the real answer is jute\n",
      "The model predicted the answer is coconut While the real answer is coconut\n",
      "The model predicted the answer is pomegranate While the real answer is pomegranate\n",
      "The model predicted the answer is apple While the real answer is apple\n",
      "The model predicted the answer is maize While the real answer is maize\n",
      "The model predicted the answer is papaya While the real answer is papaya\n",
      "The model predicted the answer is muskmelon While the real answer is muskmelon\n",
      "The model predicted the answer is coffee While the real answer is coffee\n",
      "The model predicted the answer is papaya While the real answer is papaya\n",
      "The model predicted the answer is orange While the real answer is orange\n",
      "The model predicted the answer is papaya While the real answer is papaya\n",
      "The model predicted the answer is chickpea While the real answer is chickpea\n",
      "The model predicted the answer is jute While the real answer is jute\n",
      "The model predicted the answer is mungbean While the real answer is mungbean\n",
      "The model predicted the answer is orange While the real answer is orange\n",
      "The model predicted the answer is pigeonpeas While the real answer is pigeonpeas\n",
      "The model predicted the answer is rice While the real answer is rice\n",
      "The model predicted the answer is pomegranate While the real answer is pomegranate\n",
      "The model predicted the answer is lentil While the real answer is mothbeans\n",
      "The model predicted the answer is jute While the real answer is jute\n",
      "The model predicted the answer is lentil While the real answer is lentil\n",
      "The model predicted the answer is jute While the real answer is jute\n",
      "The model predicted the answer is blackgram While the real answer is blackgram\n",
      "The model predicted the answer is jute While the real answer is jute\n",
      "The model predicted the answer is chickpea While the real answer is chickpea\n",
      "The model predicted the answer is chickpea While the real answer is chickpea\n",
      "The model predicted the answer is kidneybeans While the real answer is kidneybeans\n",
      "The model predicted the answer is papaya While the real answer is papaya\n",
      "The model predicted the answer is mango While the real answer is mango\n",
      "The model predicted the answer is blackgram While the real answer is blackgram\n",
      "The model predicted the answer is maize While the real answer is maize\n",
      "The model predicted the answer is mungbean While the real answer is mungbean\n",
      "The model predicted the answer is maize While the real answer is maize\n",
      "The model predicted the answer is pigeonpeas While the real answer is pigeonpeas\n",
      "The model predicted the answer is coconut While the real answer is coconut\n",
      "The model predicted the answer is muskmelon While the real answer is muskmelon\n",
      "The model predicted the answer is maize While the real answer is maize\n"
     ]
    }
   ],
   "source": [
    "predictions = model.predict(x_test)\n",
    "for i in range(50):\n",
    "    print('The model predicted the answer is',df['label'].unique()[np.argmax(predictions[i])],'While the real answer is',df['label'].unique()[np.argmax(y_test[i])])"
   ]
  },
  {
   "cell_type": "code",
   "execution_count": null,
   "metadata": {},
   "outputs": [],
   "source": []
  }
 ],
 "metadata": {
  "kernelspec": {
   "display_name": "Python 3",
   "language": "python",
   "name": "python3"
  },
  "language_info": {
   "codemirror_mode": {
    "name": "ipython",
    "version": 3
   },
   "file_extension": ".py",
   "mimetype": "text/x-python",
   "name": "python",
   "nbconvert_exporter": "python",
   "pygments_lexer": "ipython3",
   "version": "3.8.5"
  }
 },
 "nbformat": 4,
 "nbformat_minor": 4
}
